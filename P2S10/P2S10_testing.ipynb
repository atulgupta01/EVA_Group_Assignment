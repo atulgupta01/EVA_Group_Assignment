{
  "nbformat": 4,
  "nbformat_minor": 0,
  "metadata": {
    "colab": {
      "name": "P2S10_testing.ipynb",
      "provenance": [],
      "collapsed_sections": [],
      "include_colab_link": true
    },
    "kernelspec": {
      "name": "python3",
      "display_name": "Python 3"
    }
  },
  "cells": [
    {
      "cell_type": "markdown",
      "metadata": {
        "id": "view-in-github",
        "colab_type": "text"
      },
      "source": [
        "<a href=\"https://colab.research.google.com/github/atulgupta01/EVA_Group_Assignment/blob/master/P2S10/P2S10_testing.ipynb\" target=\"_parent\"><img src=\"https://colab.research.google.com/assets/colab-badge.svg\" alt=\"Open In Colab\"/></a>"
      ]
    },
    {
      "cell_type": "code",
      "metadata": {
        "id": "jesYdPhYRbhh",
        "colab_type": "code",
        "colab": {}
      },
      "source": [
        "import cv2 as cv\n",
        "from google.colab.patches import cv2_imshow\n",
        "from PIL import Image\n",
        "from scipy import ndimage\n",
        "import copy\n",
        "from PIL import Image as PILImage\n",
        "import numpy as np\n",
        "import math\n",
        "\n",
        "import os\n",
        "import time\n",
        "import random\n",
        "import matplotlib.pyplot as plt\n",
        "import torch\n",
        "import torch.nn as nn\n",
        "import torch.nn.functional as F\n",
        "from torch.autograd import Variable\n",
        "from collections import deque"
      ],
      "execution_count": 0,
      "outputs": []
    },
    {
      "cell_type": "code",
      "metadata": {
        "id": "ikf0RIYlSaRm",
        "colab_type": "code",
        "colab": {}
      },
      "source": [
        "car_file = 'car.png'\n",
        "city_file = 'citymap.png'\n",
        "city_map_file = \"MASK1.png\""
      ],
      "execution_count": 0,
      "outputs": []
    },
    {
      "cell_type": "code",
      "metadata": {
        "id": "9glRwrF4ncid",
        "colab_type": "code",
        "colab": {}
      },
      "source": [
        "\n",
        "class car(object):\n",
        "\n",
        "  # x and y are center points of the car\n",
        "\n",
        "    def __init__(self,x,y,angle,):\n",
        "        self.x = x\n",
        "        self.y = y\n",
        "        (self.length, self.width) = (int(20), int(10))\n",
        "        self.angle = angle\n",
        "\n",
        "    def move(self,velocity_x,velocity_y,rotation):\n",
        "        self.x = self.x + velocity_x\n",
        "        self.y = self.y + velocity_y\n",
        "        self.angle = self.angle + rotation\n",
        "\n",
        "        if self.angle > 360:\n",
        "            self.angle = self.angle % 360\n",
        "        elif self.angle < -360:\n",
        "            self.angle = self.angle % -360\n"
      ],
      "execution_count": 0,
      "outputs": []
    },
    {
      "cell_type": "code",
      "metadata": {
        "id": "QuQ-sTvmpan-",
        "colab_type": "code",
        "colab": {}
      },
      "source": [
        "\n",
        "class city(object):\n",
        "\n",
        "    def __init__(self, city_file):\n",
        "        self.city_file = city_file\n",
        "        self.city_img = cv.imread(self.city_file)\n",
        "        (self.width, self.length, _) = self.city_img.shape\n",
        "\n",
        "    def draw_car(self,x,y,width,height,angle,img):\n",
        "\n",
        "        _angle = (180 - angle) * math.pi / 180.0\n",
        "        b = math.cos(_angle) * 0.5\n",
        "        a = math.sin(_angle) * 0.5\n",
        "        pt0 = (int(x - a * height - b * width), int(y + b * height - a* width))\n",
        "        pt1 = (int(x + a * height - b * width), int(y - b * height - a* width))\n",
        "        pt2 = (int(2 * x - pt0[0]), int(2 * y - pt0[1]))\n",
        "        pt3 = (int(2 * x - pt1[0]), int(2 * y - pt1[1]))\n",
        "        pt4 = (int((pt0[0] + pt1[0]) / 2), int((pt0[1] + pt1[1]) / 2))\n",
        "        pt5 = (int((pt0[0] + pt3[0]) / 2), int((pt0[1] + pt3[1]) / 2))\n",
        "        pt6 = (int((pt1[0] + pt2[0]) / 2), int((pt1[1] + pt2[1]) / 2))\n",
        "\n",
        "        line_color = (200, 200, 200)\n",
        "        line_thickness = 5\n",
        "\n",
        "    # print(pt0, pt1, pt2, pt3, pt4)\n",
        "\n",
        "        cv.line(img, pt2, pt3, line_color, line_thickness)\n",
        "        cv.line(img, pt3, pt5, line_color, line_thickness)\n",
        "        cv.line(img, pt6, pt2, line_color, line_thickness)\n",
        "        cv.line(img, pt5, pt4, line_color, line_thickness)\n",
        "        cv.line(img, pt6, pt4, line_color, line_thickness)\n",
        "\n",
        "    def get_current_loc_map(self,x,y,size,angle=0,state=False):\n",
        "\n",
        "        newcity_img = copy.deepcopy(self.city_img)\n",
        "\n",
        "        if x - size / 2 < 0 or y - size / 2 < 0 or x + size / 2 \\\n",
        "            > self.length - 1 or y + size / 2 > self.width - 1:\n",
        "            return np.ones((size, size, 3))\n",
        "        else:\n",
        "            y = self.width - y\n",
        "\n",
        "        if state == True:\n",
        "            img_crop = self.draw_car(x,y,20,10,angle,newcity_img)\n",
        "\n",
        "        img_crop = newcity_img[int(y - size / 2):int(y) + int(size / 2), \\\n",
        "                               int(x - size / 2):int(x) + int(size / 2)]\n",
        "        img_state = np.average(img_crop, axis=2) / 255\n",
        "        img_state = img_state.reshape(-1, size, size)\n",
        "        return (img_crop, img_state)\n"
      ],
      "execution_count": 0,
      "outputs": []
    },
    {
      "cell_type": "code",
      "metadata": {
        "id": "V_4MjYi0X8Bn",
        "colab_type": "code",
        "colab": {}
      },
      "source": [
        "class env(object):\n",
        "\n",
        "    def __init__(self,car,city,city_map,car_img,):\n",
        "        self.car = car\n",
        "        self.city = city\n",
        "        self.city_map = city_map\n",
        "        self.car_img = car_img\n",
        "        self.car_img = cv.resize(self.car_img, dsize=(self.car.length,self.car.width))\n",
        "        self.size = 40\n",
        "\n",
        "        self.goal_x = 575\n",
        "        self.goal_y = 530\n",
        "        self.swap = 0\n",
        "\n",
        "    # car_x and car_y are center points of the car\n",
        "\n",
        "    def show_image(self):\n",
        "        newcity = copy.deepcopy(self.city)\n",
        "        car_rotated = ndimage.rotate(self.car_img, self.car.angle)\n",
        "        (car_wid, car_len, _) = car_rotated.shape\n",
        "        pos_x = self.car.x - car_len // 2\n",
        "        pos_y = newcity.width - (self.car.y - car_wid // 2)\n",
        "\n",
        "        if pos_x < 0:\n",
        "            pos_x = 0\n",
        "        elif pos_x > newcity.length:\n",
        "            pos_x = newcity.length - car_len\n",
        "\n",
        "        if pos_y > newcity.width:\n",
        "            pos_y = newcity.width - car_wid\n",
        "        elif pos_y < 0:\n",
        "            pos_y = 0\n",
        "\n",
        "        car_rotated = cv.addWeighted(newcity.city_img[pos_y:pos_y \\\n",
        "                + car_wid, pos_x:pos_x + car_len], 0.5, car_rotated, 1,0)\n",
        "        newcity.city_img[pos_y:pos_y + car_wid, pos_x:pos_x + car_len] = car_rotated\n",
        "        return newcity\n",
        "\n",
        "    def step(self, action):\n",
        "        self.reward = 0\n",
        "        self.velocity_x = 0.5\n",
        "        self.velocity_y = 0\n",
        "        done = False\n",
        "\n",
        "        angle = math.radians(action)\n",
        "        self.velocity_x = self.velocity_x * math.cos(angle) \\\n",
        "            - self.velocity_y * math.sin(angle)\n",
        "        self.velocity_y = self.velocity_y * math.cos(angle) \\\n",
        "            + self.velocity_x * math.sin(angle)\n",
        "        self.car.move(self.velocity_x, self.velocity_y, action)\n",
        "        xx = self.goal_x - self.car.x\n",
        "        yy = self.goal_y - self.car.y\n",
        "\n",
        "        distance = np.sqrt((self.car.x - self.goal_x) ** 2 + (self.car.y - self.goal_y) ** 2)\n",
        "    \n",
        "        car_loc, _ = self.city_map.get_current_loc_map(self.car.x,self.car.y, self.size)\n",
        "        sand_quality = np.sum(car_loc)\n",
        "        sand_quality = sand_quality / (self.size * self.size * 3 * 255)\n",
        "    \n",
        "        # moving on the sand\n",
        "        # check coordinates carefully image cordinate y is inverse of car coordinate y\n",
        "    \n",
        "        sand_check = np.sum(self.city_map.city_img[int(self.city.width \\\n",
        "                            - self.car.y), int(self.car.x)]) / (255 * 3)\n",
        "    \n",
        "        if sand_check > 0:  # **** Check whether coords are correct\n",
        "            self.reward = self.reward - 5.0\n",
        "        else:\n",
        "    \n",
        "               # moving on the road\n",
        "    \n",
        "            self.reward = self.reward - 1.5\n",
        "    \n",
        "        if self.car.x - int(self.car.length / 2) < 5 or self.car.y \\\n",
        "            - int(self.car.width / 2) < 5 or self.car.x \\\n",
        "            - int(self.car.length / 2) > self.city_map.length - 5 \\\n",
        "            or self.car.y - int(self.car.width / 2) > self.city_map.width - 5:\n",
        "            self.boundary_hit_count = self.boundary_hit_count + 1\n",
        "            self.reward = self.reward - 5.0\n",
        "    \n",
        "        if distance < self.last_distance:\n",
        "            self.reward = self.reward + 5\n",
        "        else:\n",
        "            self.reward = self.reward + 2\n",
        "    \n",
        "        if distance < 25:\n",
        "            self.reward = self.reward + 100\n",
        "    \n",
        "            self.goal_hit_count += 1\n",
        "    \n",
        "            if self.swap == 1:\n",
        "                print ('Hit the Goal 2: (' + str(self.goal_x) + ', ' + str(self.goal_y) + ')')\n",
        "                #traversal_log.write('Train episode: '\n",
        "                #                    + str(train_episode_num)\n",
        "                #                   + ' Eval episode: '\n",
        "                #                    + str(eval_episode_num)\n",
        "                #                    + ' : Hit the Goal 2: (' + str(goal_x)\n",
        "                #                    + ', ' + str(goal_y) + ')\\n')\n",
        "                \n",
        "                self.goal_x = 575\n",
        "                self.goal_y = 530\n",
        "                self.swap = 0\n",
        "                done = True\n",
        "            else:\n",
        "                print ('Hit the Goal 1: (' + str(self.goal_x) + ', ' + str(self.goal_y) + ')')\n",
        "                #traversal_log.write('Train episode: '\n",
        "                #                    + str(train_episode_num)\n",
        "                #                    + ' Eval episode: '\n",
        "                #                    + str(eval_episode_num)\n",
        "                #                    + ' : Hit the Goal 1: (' + str(goal_x)\n",
        "                #                    + ', ' + str(goal_y) + ')\\n')\n",
        "                \n",
        "                self.goal_x = 610\n",
        "                self.goal_y = 45\n",
        "                self.swap = 1\n",
        "                done = True\n",
        "    \n",
        "        self.last_distance = distance\n",
        "        self.current_step += 1\n",
        "    \n",
        "        _, img_state = self.city.get_current_loc_map(self.car.x, self.car.y,\\\n",
        "                self.size, self.car.angle, state=True)\n",
        "        self.last_action = action\n",
        "        self.last_reward = self.reward\n",
        "    \n",
        "        return [img_state, distance], self.reward, done\n",
        "\n",
        "    def reset(self):\n",
        "\n",
        "        longueur = self.city.length\n",
        "        largeur = self.city.width\n",
        "\n",
        "        self.on_road_count = 0\n",
        "        self.off_road_count = 0\n",
        "        self.boundary_hit_count = 0\n",
        "        self.goal_hit_count = 0\n",
        "        self.episode_total_reward = 0.0\n",
        "        self.reward = 0\n",
        "        self.last_reward = 0\n",
        "        self.last_action = 0\n",
        "        self.goal_x = 575\n",
        "        self.goal_y = 530\n",
        "        self.swap = 0\n",
        "        self.last_distance = 0\n",
        "        self.current_step = 0\n",
        "\n",
        "        self.car.angle = 0.0\n",
        "        self.car.x = np.random.randint(100, longueur - 100)\n",
        "        self.car.y = np.random.randint(100, largeur - 100)\n",
        "        distance = np.sqrt((self.car.x - self.goal_x) ** 2 + (self.car.y- self.goal_y) ** 2)\n",
        "        \n",
        "        _, img_state = self.city.get_current_loc_map(self.car.x, self.car.y,self.size, self.car.angle, state=True)\n",
        "        return [img_state, distance]\n",
        "\n"
      ],
      "execution_count": 0,
      "outputs": []
    },
    {
      "cell_type": "code",
      "metadata": {
        "id": "4CeRW4D79HL0",
        "colab_type": "code",
        "colab": {}
      },
      "source": [
        "class Actor(nn.Module):\n",
        "\n",
        "  def __init__(self, state_dim, action_dim, max_action):\n",
        "    super(Actor, self).__init__()\n",
        "    # assuming input state image size to be 40x40\n",
        "    self.convblock1 = nn.Sequential(nn.Conv2d(in_channels=1, out_channels=8, kernel_size=(3, 3), padding=0, bias=False),\n",
        "              nn.BatchNorm2d(8),nn.ReLU(),nn.Dropout(0.1)) # output_size = 38\n",
        "          \n",
        "    self.convblock2 = nn.Sequential(nn.Conv2d(in_channels=8, out_channels=16, kernel_size=(3, 3), padding=0, bias=False),\n",
        "              nn.BatchNorm2d(16),nn.ReLU(),nn.Dropout(0.1)) # output_size = 36\n",
        "    \n",
        "    self.convblock3 = nn.Sequential(nn.Conv2d(in_channels=16, out_channels=16, kernel_size=(3, 3), padding=0, bias=False),\n",
        "              nn.BatchNorm2d(16),nn.ReLU(),nn.Dropout(0.1)) # putput_size = 34\n",
        "\n",
        "    self.pool1 = nn.MaxPool2d(2, 2) # output_size = 17\n",
        "    self.convblock4 = nn.Sequential(nn.Conv2d(in_channels=16, out_channels=8, kernel_size=(1, 1), padding=0, bias=False),\n",
        "              nn.BatchNorm2d(8),nn.ReLU(),nn.Dropout(0.1)) # output_size = 17\n",
        "                \n",
        "    self.convblock5 = nn.Sequential(nn.Conv2d(in_channels=8, out_channels=16, kernel_size=(3, 3), padding=0, bias=False),\n",
        "              nn.BatchNorm2d(16),nn.ReLU(),nn.Dropout(0.1)) # output_size = 15\n",
        "          \n",
        "    self.convblock6 = nn.Sequential(nn.Conv2d(in_channels=16, out_channels=32, kernel_size=(3, 3), padding=0, bias=False),\n",
        "              nn.BatchNorm2d(32),nn.ReLU(),nn.Dropout(0.1)) # output_size = 13\n",
        "\n",
        "    self.convblock7 = nn.Sequential(nn.Conv2d(in_channels=32, out_channels=32, kernel_size=(3, 3), padding=0, bias=False),\n",
        "              nn.BatchNorm2d(32),nn.ReLU(),nn.Dropout(0.1)) # output_size = 11\n",
        "          \n",
        "    self.GAP = nn.Sequential(nn.AdaptiveAvgPool2d((1,1)))\n",
        "\n",
        "    # we will have 32 values coming from GAP layer and (state_dim-1) other state values \n",
        "    self.fc1 = nn.Linear(state_dim - 1 + 32, 400)\n",
        "    self.fc2 = nn.Linear(400, 300)\n",
        "    self.fc3 = nn.Linear(300, action_dim)\n",
        "\n",
        "    self.max_action = max_action\n",
        "\n",
        "  def forward(self, stateImg,stateValues):\n",
        "    x = stateImg  # first state element is cropped image\n",
        "    x = self.convblock1(x)\n",
        "    x = self.convblock2(x)\n",
        "    x = self.convblock3(x)\n",
        "    x = self.pool1(x)\n",
        "    x = self.convblock4(x)\n",
        "    x = self.convblock5(x)\n",
        "    x = self.convblock6(x)\n",
        "    x = self.convblock7(x)\n",
        "    x = self.GAP(x)\n",
        "    x = x.view(-1, 32)\n",
        "    # concatenate with rest of the state elements\n",
        "    x = torch.cat([x, stateValues], 1)\n",
        "    x = F.relu(self.fc1(x))\n",
        "    x = F.relu(self.fc2(x))\n",
        "    x = self.max_action * torch.tanh(self.fc3(x))\n",
        "    return x\n",
        "  "
      ],
      "execution_count": 0,
      "outputs": []
    },
    {
      "cell_type": "code",
      "metadata": {
        "id": "PRh1DtuGSBQw",
        "colab_type": "code",
        "colab": {}
      },
      "source": [
        "def select_action(model,state):\n",
        "  stateImg=np.expand_dims(state[0],1)\n",
        "  print(state[1:].shape)\n",
        "  stateValues = np.array(state[1:], dtype=np.float)\n",
        "  stateValues = np.expand_dims(stateValues,0)\n",
        "  stateValues = torch.Tensor(stateValues.reshape(1, -1)).to(device)\n",
        "  stateImg = torch.Tensor(stateImg).to(device)\n",
        "  return(actorNet(stateImg,stateValues).cpu().data.numpy().flatten())\n"
      ],
      "execution_count": 0,
      "outputs": []
    },
    {
      "cell_type": "code",
      "metadata": {
        "id": "bfIrnluoSI1S",
        "colab_type": "code",
        "colab": {}
      },
      "source": [
        "#test actor individually\n",
        "# Selecting the device (CPU or GPU)\n",
        "device = torch.device(\"cuda\" if torch.cuda.is_available() else \"cpu\")\n",
        "actorNet = Actor(state_dim=2, action_dim=1, max_action=5.0).to(device)\n"
      ],
      "execution_count": 0,
      "outputs": []
    },
    {
      "cell_type": "code",
      "metadata": {
        "id": "4NihpZhj9nGK",
        "colab_type": "code",
        "colab": {}
      },
      "source": [
        "car_img = cv.imread(car_file)\n",
        "car1 = car(200,200,30)\n",
        "city1 = city(city_file)\n",
        "citymap = city(city_map_file)\n",
        "\n",
        "carEnv = env(car1, city1, citymap, car_img)\n",
        "carEnv.reset()\n",
        "state,reward,done = carEnv.step(action = 0.5)\n"
      ],
      "execution_count": 0,
      "outputs": []
    },
    {
      "cell_type": "code",
      "metadata": {
        "id": "2F1OlPisU4bq",
        "colab_type": "code",
        "outputId": "5596d0f7-6b53-46ed-cb99-fc1e79b38617",
        "colab": {
          "base_uri": "https://localhost:8080/",
          "height": 68
        }
      },
      "source": [
        "state = np.array(state)\n",
        "print(state.shape)\n",
        "\n",
        "print(select_action(actorNet,state))"
      ],
      "execution_count": 10,
      "outputs": [
        {
          "output_type": "stream",
          "text": [
            "(2,)\n",
            "(1,)\n",
            "[-3.851938]\n"
          ],
          "name": "stdout"
        }
      ]
    },
    {
      "cell_type": "code",
      "metadata": {
        "id": "Z17MqxRxlD18",
        "colab_type": "code",
        "colab": {}
      },
      "source": [
        ""
      ],
      "execution_count": 0,
      "outputs": []
    },
    {
      "cell_type": "code",
      "metadata": {
        "id": "u5rW0IDB8nTO",
        "colab_type": "code",
        "colab": {}
      },
      "source": [
        "class ReplayBuffer(object):\n",
        "\n",
        "  def __init__(self, max_size=1e6):\n",
        "    self.storage = []\n",
        "    self.max_size = max_size\n",
        "    self.ptr = 0\n",
        "\n",
        "  def add(self, transition):\n",
        "    if len(self.storage) == self.max_size:\n",
        "      self.storage[int(self.ptr)] = transition\n",
        "      self.ptr = (self.ptr + 1) % self.max_size\n",
        "    else:\n",
        "      self.storage.append(transition)\n",
        "\n",
        "  def sample(self, batch_size):\n",
        "    ind = np.random.randint(0, len(self.storage), size=batch_size)\n",
        "    batch_stateImgs,batch_stateValues, batch_next_stateImgs,batch_next_stateValues = [],[],[],[]\n",
        "    batch_actions, batch_rewards, batch_dones = [],[],[]\n",
        "    for i in ind: \n",
        "      state, next_state, action, reward, done = self.storage[i]\n",
        "\n",
        "      batch_stateImgs.append(np.array(state[0],copy=False))\n",
        "      batch_stateValues.append(np.array(state[1:], copy=False))\n",
        "\n",
        "      batch_next_stateImgs.append(np.array(next_state[0], copy=False))\n",
        "      batch_next_stateValues.append(np.array(next_state[1:], copy=False))\n",
        "\n",
        "      batch_actions.append(np.array(action, copy=False))\n",
        "      batch_rewards.append(np.array(reward, copy=False))\n",
        "      batch_dones.append(np.array(done, copy=False))\n",
        "    return np.array(batch_stateImgs),np.array(batch_stateValues), np.array(batch_next_stateImgs),np.array(batch_next_stateValues),\\\n",
        "     np.array(batch_actions), np.array(batch_rewards).reshape(-1, 1), np.array(batch_dones).reshape(-1, 1)"
      ],
      "execution_count": 0,
      "outputs": []
    },
    {
      "cell_type": "markdown",
      "metadata": {
        "id": "fn6HXyb4lmQS",
        "colab_type": "text"
      },
      "source": [
        "### Test Replaybuffer\n",
        "we will test both add and sample functions"
      ]
    },
    {
      "cell_type": "code",
      "metadata": {
        "id": "tYm3-iK9lkh5",
        "colab_type": "code",
        "colab": {
          "base_uri": "https://localhost:8080/",
          "height": 34
        },
        "outputId": "70442898-4b78-43af-963e-0ad743ca8359"
      },
      "source": [
        "replay_buffer = ReplayBuffer(max_size=1000)\n",
        "\n",
        "obs = carEnv.reset()\n",
        "\n",
        "# we randomly step through the environment and add 1000 transitions to replay_buffer\n",
        "for i in range(500):\n",
        "  action = random.uniform(-5.0, 5.0)\n",
        "  new_obs,reward,done = carEnv.step(action)\n",
        "  replay_buffer.add((obs, new_obs, action, reward, done)) \n",
        "\n",
        "print(len(replay_buffer.storage))\n",
        "\n",
        "\n"
      ],
      "execution_count": 16,
      "outputs": [
        {
          "output_type": "stream",
          "text": [
            "500\n"
          ],
          "name": "stdout"
        }
      ]
    },
    {
      "cell_type": "code",
      "metadata": {
        "id": "7V6vHGmHogwU",
        "colab_type": "code",
        "colab": {}
      },
      "source": [
        "# now sample a batch pf 10 from memory and run it through the actor network\n",
        "batch_stateImgs,batch_stateValues, batch_next_stateImgs,batch_next_stateValues,\\\n",
        " batch_actions, batch_rewards, batch_dones = replay_buffer.sample(10)\n",
        "      \n",
        "stateImg = torch.Tensor(batch_stateImgs).to(device)\n",
        "stateValues = torch.Tensor(batch_stateValues).to(device)\n",
        "next_stateImgs = torch.Tensor(batch_next_stateImgs).to(device)\n",
        "next_stateValues = torch.Tensor(batch_next_stateValues).to(device)\n",
        "action = torch.Tensor(batch_actions).to(device)\n",
        "reward = torch.Tensor(batch_rewards).to(device)\n",
        "done = torch.Tensor(batch_dones).to(device)\n",
        "    "
      ],
      "execution_count": 0,
      "outputs": []
    },
    {
      "cell_type": "code",
      "metadata": {
        "id": "EWCqS3wssdqp",
        "colab_type": "code",
        "colab": {
          "base_uri": "https://localhost:8080/",
          "height": 34
        },
        "outputId": "a3610d36-381e-4ead-fb5b-bb5a36c3a208"
      },
      "source": [
        "print(stateImg.shape,stateImg.dtype)"
      ],
      "execution_count": 18,
      "outputs": [
        {
          "output_type": "stream",
          "text": [
            "torch.Size([10, 1, 40, 40]) torch.float32\n"
          ],
          "name": "stdout"
        }
      ]
    },
    {
      "cell_type": "code",
      "metadata": {
        "id": "Ot2OS801sTHS",
        "colab_type": "code",
        "colab": {
          "base_uri": "https://localhost:8080/",
          "height": 34
        },
        "outputId": "7a935aa0-efd5-4612-eea2-1edfd2f21372"
      },
      "source": [
        "predictedAction = actorNet(stateImg,stateValues)\n",
        "print(predictedAction.shape)"
      ],
      "execution_count": 23,
      "outputs": [
        {
          "output_type": "stream",
          "text": [
            "torch.Size([10, 1])\n"
          ],
          "name": "stdout"
        }
      ]
    },
    {
      "cell_type": "code",
      "metadata": {
        "id": "_VD1HyKus1O8",
        "colab_type": "code",
        "colab": {
          "base_uri": "https://localhost:8080/",
          "height": 51
        },
        "outputId": "86ba4032-8db7-4e6f-a208-1f85fd896e98"
      },
      "source": [
        "print(predictedAction.cpu().data.numpy().flatten())"
      ],
      "execution_count": 25,
      "outputs": [
        {
          "output_type": "stream",
          "text": [
            "[-3.7637637 -3.7639432 -3.7654064 -3.7588909 -3.7574446 -3.7459106\n",
            " -3.7620444 -3.7487159 -3.750959  -3.7444735]\n"
          ],
          "name": "stdout"
        }
      ]
    }
  ]
}