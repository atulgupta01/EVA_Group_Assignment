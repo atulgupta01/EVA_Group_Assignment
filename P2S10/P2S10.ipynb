{
  "nbformat": 4,
  "nbformat_minor": 0,
  "metadata": {
    "colab": {
      "name": "P2S10.ipynb",
      "provenance": [],
      "collapsed_sections": []
    },
    "kernelspec": {
      "name": "python3",
      "display_name": "Python 3"
    }
  },
  "cells": [
    {
      "cell_type": "code",
      "metadata": {
        "id": "jesYdPhYRbhh",
        "colab_type": "code",
        "colab": {}
      },
      "source": [
        "import cv2 as cv\n",
        "from google.colab.patches import cv2_imshow\n",
        "from PIL import Image\n",
        "from scipy import ndimage\n",
        "import copy"
      ],
      "execution_count": 0,
      "outputs": []
    },
    {
      "cell_type": "code",
      "metadata": {
        "id": "ikf0RIYlSaRm",
        "colab_type": "code",
        "colab": {}
      },
      "source": [
        "car_file = 'car.jpg'\n",
        "city_file = 'citymap.png'"
      ],
      "execution_count": 0,
      "outputs": []
    },
    {
      "cell_type": "code",
      "metadata": {
        "id": "9glRwrF4ncid",
        "colab_type": "code",
        "colab": {}
      },
      "source": [
        "class car(object):\n",
        "\n",
        "  #x and y are center points of the car\n",
        "  def __init__(self, x, y, angle):\n",
        "    self.x = x\n",
        "    self.y = y\n",
        "    self.length, self.width = int(20), int(10)\n",
        "    self.angle = angle\n",
        "  \n",
        "  def move(self, velocity_x, velocity_y, rotation):\n",
        "    self.x = self.x + velocity_x\n",
        "    self.y = self.y + velocity_y\n",
        "    self.angle = self.angle + rotation\n",
        "     "
      ],
      "execution_count": 0,
      "outputs": []
    },
    {
      "cell_type": "code",
      "metadata": {
        "id": "QuQ-sTvmpan-",
        "colab_type": "code",
        "colab": {}
      },
      "source": [
        "class city(object):\n",
        "\n",
        "  def __init__(self, city_file):\n",
        "    self.city_file = city_file\n",
        "    self.city_img = cv.imread(self.city_file)\n",
        "    self.width, self.length, _ = self.city_img.shape\n",
        "\n"
      ],
      "execution_count": 0,
      "outputs": []
    },
    {
      "cell_type": "code",
      "metadata": {
        "id": "V_4MjYi0X8Bn",
        "colab_type": "code",
        "colab": {}
      },
      "source": [
        "class env(object):\n",
        "\n",
        "  def __init__(self, car, city, car_img):\n",
        "    \n",
        "    self.car = car\n",
        "    self.city = city\n",
        "    self.car_img = car_img\n",
        "    self.car_img = cv.resize(self.car_img,(self.car.length, self.car.width))\n",
        "\n",
        "  #car_x and car_y are center points of the car\n",
        "  def show_image(self):   \n",
        "    newcity = copy.deepcopy(self.city)\n",
        "    \n",
        "    car_rotated = ndimage.rotate(self.car_img, self.car.angle)\n",
        "    car_wid, car_len, _ = car_rotated.shape\n",
        "\n",
        "    pos_x = self.car.x - (car_len//2)\n",
        "    pos_y = newcity.width - (self.car.y - (car_wid//2))\n",
        "    print(pos_x, pos_y, car_wid, newcity.length, newcity.width)\n",
        "    \n",
        "    if (pos_x < 0):\n",
        "      pos_x = 0\n",
        "    elif(pos_x >newcity.length):\n",
        "      pos_x = newcity.length - car_len\n",
        "\n",
        "    if(pos_y > newcity.width):\n",
        "      pos_y = newcity.width - car_wid\n",
        "    elif(pos_y < 0):\n",
        "      pos_y = 0\n",
        "    \n",
        "    print(pos_x, pos_y, car_wid, car_len)\n",
        "\n",
        "    car_rotated = cv.addWeighted(newcity.city_img[pos_y:pos_y+car_wid, pos_x:pos_x+car_len],0.5,car_rotated,1,0)\n",
        "    newcity.city_img[pos_y:pos_y+car_wid, pos_x:pos_x+car_len] = car_rotated\n",
        "    return newcity\n",
        "\n",
        "    "
      ],
      "execution_count": 0,
      "outputs": []
    },
    {
      "cell_type": "code",
      "metadata": {
        "id": "YJ_9c6zEaFbZ",
        "colab_type": "code",
        "colab": {
          "base_uri": "https://localhost:8080/",
          "height": 51
        },
        "outputId": "e9a26112-45f4-4699-9a23-87aaa6e4177b"
      },
      "source": [
        "car_img = cv.imread(car_file)\n",
        "car1 = car(200,200,30)\n",
        "city1 = city(city_file)\n",
        "a = env(car1, city1, car_img)\n",
        "newcity = a.show_image()\n",
        "cv2_imshow(newcity.city_img)"
      ],
      "execution_count": 6,
      "outputs": [
        {
          "output_type": "stream",
          "text": [
            "189 469 19 1429 660\n",
            "189 469 19 22\n"
          ],
          "name": "stdout"
        }
      ]
    },
    {
      "cell_type": "code",
      "metadata": {
        "id": "QyLfzUnnypNx",
        "colab_type": "code",
        "colab": {
          "base_uri": "https://localhost:8080/",
          "height": 51
        },
        "outputId": "68f19f5b-64a5-4f15-8830-e6152f932fd8"
      },
      "source": [
        "car1.move(100,100,30)\n",
        "newcity1 = a.show_image()\n",
        "cv2_imshow(newcity1.city_img)"
      ],
      "execution_count": 7,
      "outputs": [
        {
          "output_type": "stream",
          "text": [
            "291 371 22 1429 660\n",
            "291 371 22 19\n"
          ],
          "name": "stdout"
        }
      ]
    },
    {
      "cell_type": "code",
      "metadata": {
        "id": "lqkAxbOBiYL5",
        "colab_type": "code",
        "colab": {
          "base_uri": "https://localhost:8080/",
          "height": 73
        },
        "outputId": "2213ea60-294c-41ba-8663-2fe28c8f915a"
      },
      "source": [
        "car = cv.imread(car_file)\n",
        "newcar = cv.resize(car,(int(20), int(10)))\n",
        "img_rotated = ndimage.rotate(newcar, 60)\n",
        "cv2_imshow(img_rotated)\n",
        "cv2_imshow(newcar)\n",
        "\n",
        "print(img_rotated.shape)"
      ],
      "execution_count": 8,
      "outputs": [
        {
          "output_type": "display_data",
          "data": {
            "image/png": "[encoded data removed]",
            "text/plain": [
              "<PIL.Image.Image image mode=RGB size=19x22 at 0x7EFF12D2D2E8>"
            ]
          },
          "metadata": {
            "tags": []
          }
        },
        {
          "output_type": "display_data",
          "data": {
            "image/png": "[encoded data removed]",
            "text/plain": [
              "<PIL.Image.Image image mode=RGB size=20x10 at 0x7EFF12AA2A20>"
            ]
          },
          "metadata": {
            "tags": []
          }
        },
        {
          "output_type": "stream",
          "text": [
            "(22, 19, 3)\n"
          ],
          "name": "stdout"
        }
      ]
    }
  ]
}