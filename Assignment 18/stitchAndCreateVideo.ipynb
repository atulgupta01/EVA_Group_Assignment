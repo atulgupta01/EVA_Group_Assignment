{
  "nbformat": 4,
  "nbformat_minor": 0,
  "metadata": {
    "colab": {
      "name": "stitchAndCreateVideo",
      "provenance": [],
      "collapsed_sections": [],
      "authorship_tag": "ABX9TyOGH1ijXpmTe6VgEZEkT4YP",
      "include_colab_link": true
    },
    "kernelspec": {
      "name": "python3",
      "display_name": "Python 3"
    }
  },
  "cells": [
    {
      "cell_type": "markdown",
      "metadata": {
        "id": "view-in-github",
        "colab_type": "text"
      },
      "source": [
        "<a href=\"https://colab.research.google.com/github/atulgupta01/EVA_Group_Assignment/blob/master/Assignment%2018/stitchAndCreateVideo.ipynb\" target=\"_parent\"><img src=\"https://colab.research.google.com/assets/colab-badge.svg\" alt=\"Open In Colab\"/></a>"
      ]
    },
    {
      "cell_type": "markdown",
      "metadata": {
        "id": "CJPeqqaBuEw9",
        "colab_type": "text"
      },
      "source": [
        "Extract Frames from the video\n"
      ]
    },
    {
      "cell_type": "code",
      "metadata": {
        "colab_type": "code",
        "id": "Iu7Wt0KBKpe0",
        "colab": {}
      },
      "source": [
        "import cv2\n",
        "import numpy as np\n",
        "\n",
        "\n",
        "\n",
        "import os\n",
        "import sys\n",
        "    \n",
        "    \n",
        "\n",
        "ROOT_DIR = os.getcwd()\n",
        "FRAME_SAVE_DIR1 = os.path.join(ROOT_DIR, \"frames1\")\n",
        "FRAME_SAVE_DIR2 = os.path.join(ROOT_DIR, \"frames2\")\n",
        "FRAME_SAVE_DIR3 = os.path.join(ROOT_DIR, \"frames3\")\n",
        "\n",
        "cap = cv2.VideoCapture('/content/Video_File.mp4')\n",
        "if(cap.isOpened()==False):\n",
        "  print(\"Unable to load video\")\n",
        "\n",
        "try:\n",
        "  if not os.path.exists(FRAME_SAVE_DIR1):\n",
        "    os.makedirs(FRAME_SAVE_DIR1)\n",
        "except OSError:\n",
        "  print ('Error: Creating directory of data')\n",
        "\n",
        "\n",
        "try:\n",
        "  if not os.path.exists(FRAME_SAVE_DIR2):\n",
        "    os.makedirs(FRAME_SAVE_DIR2)\n",
        "except OSError:\n",
        "  print ('Error: Creating directory of data')\n",
        "\n",
        "\n",
        "try:\n",
        "  if not os.path.exists(FRAME_SAVE_DIR3):\n",
        "    os.makedirs(FRAME_SAVE_DIR3)\n",
        "except OSError:\n",
        "  print ('Error: Creating directory of data')    \n",
        "#print(capture)\n",
        "\n",
        "frame_count = 0\n",
        "\n",
        "# we have 3 frames folders .\n",
        "# We will extract original frame to frames1\n",
        "# Convert original to gray scale and save to frames2\n",
        "# apply laplacian on grayscale image and save to frames3\n",
        "\n",
        "while True:\n",
        "    ret, frame = cap.read()\n",
        "    # Bail out when the video file ends\n",
        "    if not ret:\n",
        "        break\n",
        "\n",
        "    frame = cv2.rotate(frame, cv2.ROTATE_90_CLOCKWISE)\n",
        "   # cv2_imshow(frame)        \n",
        "    frame = cv2.resize(frame,(0,0), fx = 0.2,fy = 0.2,interpolation = cv2.INTER_CUBIC)\n",
        "   # cv2_imshow(frame)        \n",
        "    \n",
        "    \n",
        "    gray = cv2.cvtColor(frame, cv2.COLOR_BGR2GRAY)\n",
        "\n",
        "    edgeDetected = cv2.Laplacian(gray,  -1, ksize=3)\n",
        "    \n",
        "    frame_count += 1\n",
        "    print('frame_count :{0}'.format(frame_count))\n",
        "    name = '{0}.jpg'.format(frame_count)\n",
        "    name1 = os.path.join(FRAME_SAVE_DIR1, name)\n",
        "    name2 = os.path.join(FRAME_SAVE_DIR2, name)\n",
        "    name3 = os.path.join(FRAME_SAVE_DIR3, name)\n",
        "\n",
        "    cv2.imwrite(name1, frame)\n",
        "    cv2.imwrite(name2, gray)\n",
        "    cv2.imwrite(name3, edgeDetected)\n",
        "     \n",
        "cap.release()"
      ],
      "execution_count": 0,
      "outputs": []
    },
    {
      "cell_type": "code",
      "metadata": {
        "id": "m_9bkWOh1ASS",
        "colab_type": "code",
        "colab": {}
      },
      "source": [
        "import os\n",
        "import cv2\n",
        "import numpy as np\n",
        "import sys\n",
        "\n",
        "from google.colab.patches import cv2_imshow\n",
        "from cv2 import VideoWriter, VideoWriter_fourcc, imread\n",
        "import glob\n",
        "\n",
        "\n",
        "def stitchAndCreateVideo(outVid,path1,path2,path3,fps,is_color=True, format=\"FMP4\"):\n",
        "  # it expects frames in path1,path2 and path3 to have same names in format 1.jpg,2.jpg,3.jpg so on\n",
        "\n",
        "  \n",
        "  CONCATE_SAVE_DIR3 = os.path.join(ROOT_DIR, \"concat\")\n",
        "\n",
        "  # make a list of images in path1\n",
        "  images1 = list(glob.iglob(os.path.join(path1, '*.*')))\n",
        "# Sort the images by integer index\n",
        "  images1 = sorted(images1, key=lambda x: float(os.path.split(x)[1][:-3]))\n",
        "\n",
        "  # make a list of images in path1\n",
        "  images2 = list(glob.iglob(os.path.join(path2, '*.*')))\n",
        "  # Sort the images by integer index\n",
        "  images2 = sorted(images2, key=lambda x: float(os.path.split(x)[1][:-3]))\n",
        "\n",
        "  # make a list of images in path1\n",
        "  images3 = list(glob.iglob(os.path.join(path3, '*.*')))\n",
        "  # Sort the images by integer index\n",
        "  images3 = sorted(images3, key=lambda x: float(os.path.split(x)[1][:-3]))\n",
        "\n",
        "  \n",
        "  fourcc = VideoWriter_fourcc(*format)\n",
        "  vid = None\n",
        "  for i in range(len(images1)):\n",
        "    #print(\"Stitching {0},{1} and {2}\".format(images1[i],images2[i],images3[i]))\n",
        "\n",
        "    if not os.path.exists(images1[i]):\n",
        "      raise FileNotFoundError(images1[i])\n",
        "\n",
        "    img1 = imread(images1[i])\n",
        "\n",
        "    if not os.path.exists(images2[i]):\n",
        "      raise FileNotFoundError(images2[i])\n",
        "\n",
        "    img2 = imread(images2[i])\n",
        "\n",
        "    if not os.path.exists(images3[i]):\n",
        "      raise FileNotFoundError(images3[i])\n",
        "\n",
        "    img3 = imread(images3[i])\n",
        "\n",
        "    combinedImg = cv2.hconcat([img1,img2])\n",
        "    combinedImg = cv2.hconcat([combinedImg,img3])\n",
        "\n",
        "    #cv2_imshow(combinedImg)\n",
        "    \n",
        "    if vid is None:\n",
        "\n",
        "        size = combinedImg.shape[1], combinedImg.shape[0]\n",
        "        print(combinedImg.shape)\n",
        "        vid = VideoWriter(outVid, fourcc, float(fps), size, is_color)\n",
        "\n",
        "\n",
        "    vid.write(combinedImg)\n",
        "  vid.release()\n",
        "  return vid\n",
        "\n",
        "\n"
      ],
      "execution_count": 0,
      "outputs": []
    },
    {
      "cell_type": "code",
      "metadata": {
        "id": "uWbJNhz-9cAz",
        "colab_type": "code",
        "outputId": "cb35369f-efd9-4278-b99e-c1ffe1ca6f91",
        "colab": {
          "base_uri": "https://localhost:8080/",
          "height": 52
        }
      },
      "source": [
        "ROOT_DIR = os.getcwd()\n",
        "VIDEO_DIR = os.path.join(ROOT_DIR, \"videos\")\n",
        "FRAME_SAVE_DIR1 = os.path.join(ROOT_DIR, \"frames1\")\n",
        "FRAME_SAVE_DIR2 = os.path.join(ROOT_DIR, \"frames2\")\n",
        "FRAME_SAVE_DIR3 = os.path.join(ROOT_DIR, \"frames3\")\n",
        "\n",
        "outFile = os.path.join(ROOT_DIR, \"out.mp4\")\n",
        "stitchAndCreateVideo(outFile,FRAME_SAVE_DIR1,FRAME_SAVE_DIR2,FRAME_SAVE_DIR3,30)"
      ],
      "execution_count": 16,
      "outputs": [
        {
          "output_type": "stream",
          "text": [
            "(384, 648, 3)\n"
          ],
          "name": "stdout"
        },
        {
          "output_type": "execute_result",
          "data": {
            "text/plain": [
              "<VideoWriter 0x7fb526414c30>"
            ]
          },
          "metadata": {
            "tags": []
          },
          "execution_count": 16
        }
      ]
    }
  ]
}